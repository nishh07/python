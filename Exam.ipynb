{
  "nbformat": 4,
  "nbformat_minor": 0,
  "metadata": {
    "colab": {
      "provenance": []
    },
    "kernelspec": {
      "name": "python3",
      "display_name": "Python 3"
    },
    "language_info": {
      "name": "python"
    }
  },
  "cells": [
    {
      "cell_type": "code",
      "execution_count": null,
      "metadata": {
        "id": "4DXwFAjIaqwR"
      },
      "outputs": [],
      "source": [
        "#1.\tWrite a python method that adds 2 to the even numbers and 3 to the odd numbers in the list of values between 1 to 100?"
      ]
    },
    {
      "cell_type": "code",
      "source": [
        "def main(x):\n",
        "  for i in x:\n",
        "    if i%2 ==0:\n",
        "      i = i +2\n",
        "      print(i)\n",
        "    elif i%2 !=0:\n",
        "      i = i +3\n",
        "      print(i)\n",
        "\n",
        "a = list(range(1,101))\n",
        "main(a)\n",
        "\n",
        "\n",
        "\n"
      ],
      "metadata": {
        "colab": {
          "base_uri": "https://localhost:8080/"
        },
        "id": "NfLET0CDax72",
        "outputId": "f10ef9df-bb76-4ef6-93f2-a9ed90a89951"
      },
      "execution_count": null,
      "outputs": [
        {
          "output_type": "stream",
          "name": "stdout",
          "text": [
            "4\n",
            "4\n",
            "6\n",
            "6\n",
            "8\n",
            "8\n",
            "10\n",
            "10\n",
            "12\n",
            "12\n",
            "14\n",
            "14\n",
            "16\n",
            "16\n",
            "18\n",
            "18\n",
            "20\n",
            "20\n",
            "22\n",
            "22\n",
            "24\n",
            "24\n",
            "26\n",
            "26\n",
            "28\n",
            "28\n",
            "30\n",
            "30\n",
            "32\n",
            "32\n",
            "34\n",
            "34\n",
            "36\n",
            "36\n",
            "38\n",
            "38\n",
            "40\n",
            "40\n",
            "42\n",
            "42\n",
            "44\n",
            "44\n",
            "46\n",
            "46\n",
            "48\n",
            "48\n",
            "50\n",
            "50\n",
            "52\n",
            "52\n",
            "54\n",
            "54\n",
            "56\n",
            "56\n",
            "58\n",
            "58\n",
            "60\n",
            "60\n",
            "62\n",
            "62\n",
            "64\n",
            "64\n",
            "66\n",
            "66\n",
            "68\n",
            "68\n",
            "70\n",
            "70\n",
            "72\n",
            "72\n",
            "74\n",
            "74\n",
            "76\n",
            "76\n",
            "78\n",
            "78\n",
            "80\n",
            "80\n",
            "82\n",
            "82\n",
            "84\n",
            "84\n",
            "86\n",
            "86\n",
            "88\n",
            "88\n",
            "90\n",
            "90\n",
            "92\n",
            "92\n",
            "94\n",
            "94\n",
            "96\n",
            "96\n",
            "98\n",
            "98\n",
            "100\n",
            "100\n",
            "102\n",
            "102\n"
          ]
        }
      ]
    },
    {
      "cell_type": "code",
      "source": [
        "#2.\tPython program that calculates the mean of numbers in a list between 250 to 500?"
      ],
      "metadata": {
        "id": "iVj5hjdXbvKn"
      },
      "execution_count": null,
      "outputs": []
    },
    {
      "cell_type": "code",
      "source": [
        "x = list(range(250,501))\n",
        "total_sum = sum(x)\n",
        "count = len(x)\n",
        "mean = total_sum/count\n",
        "print(mean)\n",
        "\n"
      ],
      "metadata": {
        "colab": {
          "base_uri": "https://localhost:8080/"
        },
        "id": "SKkS1yukb6J-",
        "outputId": "a47aff83-eac7-49a0-d066-7998514d0a8b"
      },
      "execution_count": null,
      "outputs": [
        {
          "output_type": "stream",
          "name": "stdout",
          "text": [
            "375.0\n"
          ]
        }
      ]
    },
    {
      "cell_type": "code",
      "source": [
        "#3.\tPython code to create ones and zeros of shape 5x10 using NumPy array? And1 a create two 1D arrays of shape 3xnd find dot product of it"
      ],
      "metadata": {
        "id": "PuK8ooCEeYuH"
      },
      "execution_count": null,
      "outputs": []
    },
    {
      "cell_type": "code",
      "source": [
        "import numpy as np\n",
        "x = np.random.choice([0,1],size =(5,10))\n",
        "x"
      ],
      "metadata": {
        "colab": {
          "base_uri": "https://localhost:8080/"
        },
        "id": "T0xYp2qLeZ4Y",
        "outputId": "9f68b471-31e5-4a8f-90fa-47797e361a46"
      },
      "execution_count": null,
      "outputs": [
        {
          "output_type": "execute_result",
          "data": {
            "text/plain": [
              "array([[1, 0, 0, 0, 1, 1, 1, 0, 1, 0],\n",
              "       [0, 1, 0, 0, 1, 1, 1, 1, 0, 1],\n",
              "       [0, 1, 0, 0, 1, 1, 1, 0, 0, 1],\n",
              "       [0, 1, 1, 0, 1, 1, 1, 1, 0, 0],\n",
              "       [1, 0, 1, 1, 1, 1, 1, 1, 0, 1]])"
            ]
          },
          "metadata": {},
          "execution_count": 49
        }
      ]
    },
    {
      "cell_type": "code",
      "source": [
        "x = np.array([1,2,3])\n",
        "y = np.array([4,5,6])"
      ],
      "metadata": {
        "id": "aa_WUxGRfeam"
      },
      "execution_count": null,
      "outputs": []
    },
    {
      "cell_type": "code",
      "source": [
        "x.shape\n"
      ],
      "metadata": {
        "colab": {
          "base_uri": "https://localhost:8080/"
        },
        "id": "CEYp7B_zgBz7",
        "outputId": "53116aaf-c3d5-4a95-b251-d9459c1708cd"
      },
      "execution_count": null,
      "outputs": [
        {
          "output_type": "execute_result",
          "data": {
            "text/plain": [
              "(3,)"
            ]
          },
          "metadata": {},
          "execution_count": 45
        }
      ]
    },
    {
      "cell_type": "code",
      "source": [
        "x.ndim"
      ],
      "metadata": {
        "colab": {
          "base_uri": "https://localhost:8080/"
        },
        "id": "QxFy436Kf5mt",
        "outputId": "99ab2d01-e3eb-4f42-bbd6-b0638bf16076"
      },
      "execution_count": null,
      "outputs": [
        {
          "output_type": "execute_result",
          "data": {
            "text/plain": [
              "1"
            ]
          },
          "metadata": {},
          "execution_count": 72
        }
      ]
    },
    {
      "cell_type": "code",
      "source": [
        "import numpy as np\n",
        "np.dot(x,y)"
      ],
      "metadata": {
        "colab": {
          "base_uri": "https://localhost:8080/"
        },
        "id": "mc66xkTYhMBc",
        "outputId": "f9744cc9-808f-47ad-89f4-9cae04dfe53c"
      },
      "execution_count": null,
      "outputs": [
        {
          "output_type": "execute_result",
          "data": {
            "text/plain": [
              "32"
            ]
          },
          "metadata": {},
          "execution_count": 73
        }
      ]
    },
    {
      "cell_type": "code",
      "source": [
        "#4.\tWrite a program to find a minimum of three numbers in a list [453,567,212]"
      ],
      "metadata": {
        "id": "yMtsp-xhjBhr"
      },
      "execution_count": null,
      "outputs": []
    },
    {
      "cell_type": "code",
      "source": [
        "l1 = [453,567,212]\n",
        "minimum = min(l1)\n",
        "print(\"min of x:\", minimum)"
      ],
      "metadata": {
        "colab": {
          "base_uri": "https://localhost:8080/"
        },
        "id": "J2iWr6tPjH3-",
        "outputId": "25d92af7-84f2-4033-d31f-cf82bc7f7251"
      },
      "execution_count": null,
      "outputs": [
        {
          "output_type": "stream",
          "name": "stdout",
          "text": [
            "min of x: 212\n"
          ]
        }
      ]
    },
    {
      "cell_type": "code",
      "source": [
        "#5.\tWrite a Python program that creates a 2D NumPy array called ‘arr’ with dimensions 3x4, filled with integers between 1 and 10 (inclusive). Calculate and print the mean value of the array."
      ],
      "metadata": {
        "id": "WA-RsqwujoEJ"
      },
      "execution_count": null,
      "outputs": []
    },
    {
      "cell_type": "code",
      "source": [
        "x = np.array([\n",
        "    [1,2,3,4],\n",
        "    [6,5,5,4],\n",
        "    [6,2,3,8]])\n",
        "x"
      ],
      "metadata": {
        "colab": {
          "base_uri": "https://localhost:8080/"
        },
        "id": "ojWhjoacjsgy",
        "outputId": "04576fca-7c2f-45ba-e154-7e2785d3cc93"
      },
      "execution_count": null,
      "outputs": [
        {
          "output_type": "execute_result",
          "data": {
            "text/plain": [
              "array([[1, 2, 3, 4],\n",
              "       [6, 5, 5, 4],\n",
              "       [6, 2, 3, 8]])"
            ]
          },
          "metadata": {},
          "execution_count": 65
        }
      ]
    },
    {
      "cell_type": "code",
      "source": [
        "x.shape"
      ],
      "metadata": {
        "colab": {
          "base_uri": "https://localhost:8080/"
        },
        "id": "Z1wQ4CuckCbq",
        "outputId": "b5f15439-e421-4f58-938b-1c1f47eac79f"
      },
      "execution_count": null,
      "outputs": [
        {
          "output_type": "execute_result",
          "data": {
            "text/plain": [
              "(3, 4)"
            ]
          },
          "metadata": {},
          "execution_count": 66
        }
      ]
    },
    {
      "cell_type": "code",
      "source": [
        "x.ndim"
      ],
      "metadata": {
        "colab": {
          "base_uri": "https://localhost:8080/"
        },
        "id": "La1XKvzmkEfM",
        "outputId": "2a52e479-d1ab-4fd3-ec38-9c5e6e7d7afd"
      },
      "execution_count": null,
      "outputs": [
        {
          "output_type": "execute_result",
          "data": {
            "text/plain": [
              "2"
            ]
          },
          "metadata": {},
          "execution_count": 67
        }
      ]
    },
    {
      "cell_type": "code",
      "source": [
        "np.mean(x)"
      ],
      "metadata": {
        "colab": {
          "base_uri": "https://localhost:8080/"
        },
        "id": "BzpOoh-VoC3G",
        "outputId": "d931b8b3-149f-4553-c85a-868a21b9e683"
      },
      "execution_count": null,
      "outputs": [
        {
          "output_type": "execute_result",
          "data": {
            "text/plain": [
              "4.083333333333333"
            ]
          },
          "metadata": {},
          "execution_count": 68
        }
      ]
    },
    {
      "cell_type": "code",
      "source": [
        "#6.\tWrite a python program to find factorial of 5 : fact(5) = 5x4x3x2x1"
      ],
      "metadata": {
        "id": "EVfVlZRJo12M"
      },
      "execution_count": null,
      "outputs": []
    },
    {
      "cell_type": "code",
      "source": [
        "a = 1\n",
        "for i in range(5,0,-1):\n",
        "  a = a*i\n",
        "print(a)\n"
      ],
      "metadata": {
        "colab": {
          "base_uri": "https://localhost:8080/"
        },
        "id": "91iyCFOUo58K",
        "outputId": "8a95f6df-b254-42d6-9d38-f82fb40911eb"
      },
      "execution_count": null,
      "outputs": [
        {
          "output_type": "stream",
          "name": "stdout",
          "text": [
            "120\n"
          ]
        }
      ]
    },
    {
      "cell_type": "code",
      "source": [
        "#Write a python program to create a dictionary with keys as even and odd numbers between 1 to 10 and calculate sum of even and off numbers?"
      ],
      "metadata": {
        "id": "qf83yMAJqRBV"
      },
      "execution_count": null,
      "outputs": []
    },
    {
      "cell_type": "code",
      "source": [
        "\n",
        "x=list(range(1,11))\n",
        "e_sum=0\n",
        "o_sum=0\n",
        "ndict={}\n",
        "for i in x:\n",
        "  if (i % 2 == 0):\n",
        "      e_sum = e_sum + i\n",
        "      ndict['even']=e_sum\n",
        "  else:\n",
        "      o_sum = o_sum+i\n",
        "      ndict['odd']=o_sum\n",
        "print(ndict)\n",
        "\n",
        "\n"
      ],
      "metadata": {
        "colab": {
          "base_uri": "https://localhost:8080/"
        },
        "id": "fhWa9kl6qwhf",
        "outputId": "0e9d7022-b9ec-4bc8-c41e-198047dbc289"
      },
      "execution_count": null,
      "outputs": [
        {
          "output_type": "stream",
          "name": "stdout",
          "text": [
            "{'odd': 25, 'even': 30}\n"
          ]
        }
      ]
    },
    {
      "cell_type": "code",
      "source": [
        "#8.\t Write a Python program to reverse a string"
      ],
      "metadata": {
        "id": "0oCErGqJyWBL"
      },
      "execution_count": null,
      "outputs": []
    },
    {
      "cell_type": "code",
      "source": [
        "string = 'nishant'\n",
        "a =''\n",
        "for i in string:\n",
        "  a =i+a\n",
        "print(a)"
      ],
      "metadata": {
        "id": "ENU9GMZFARC3",
        "colab": {
          "base_uri": "https://localhost:8080/"
        },
        "outputId": "869cd770-0483-42ec-9fba-6b60d01ea567"
      },
      "execution_count": 3,
      "outputs": [
        {
          "output_type": "stream",
          "name": "stdout",
          "text": [
            "tnahsin\n"
          ]
        }
      ]
    },
    {
      "cell_type": "code",
      "source": [
        "#9.\tWrite a Python program that takes a 2D NumPy array ‘arr’ as input and determine shape and dimension and add new axis."
      ],
      "metadata": {
        "id": "Xybo87TSAlmT"
      },
      "execution_count": null,
      "outputs": []
    },
    {
      "cell_type": "code",
      "source": [
        "arr = np.array([[1, 2, 3],\n",
        "                [4, 5, 6]])"
      ],
      "metadata": {
        "id": "d8DkV4CcAwnu"
      },
      "execution_count": null,
      "outputs": []
    },
    {
      "cell_type": "code",
      "source": [
        "arr.ndim"
      ],
      "metadata": {
        "colab": {
          "base_uri": "https://localhost:8080/"
        },
        "id": "Y6q8a1llAyiU",
        "outputId": "dddaff25-c3c4-4a56-deb5-eb0273932c98"
      },
      "execution_count": null,
      "outputs": [
        {
          "output_type": "execute_result",
          "data": {
            "text/plain": [
              "2"
            ]
          },
          "metadata": {},
          "execution_count": 90
        }
      ]
    },
    {
      "cell_type": "code",
      "source": [
        "arr.shape"
      ],
      "metadata": {
        "colab": {
          "base_uri": "https://localhost:8080/"
        },
        "id": "8ZVMZDtLA1Cf",
        "outputId": "fdd967d7-f718-4e32-bfb8-c5eab4c04c3b"
      },
      "execution_count": null,
      "outputs": [
        {
          "output_type": "execute_result",
          "data": {
            "text/plain": [
              "(2, 3)"
            ]
          },
          "metadata": {},
          "execution_count": 91
        }
      ]
    },
    {
      "cell_type": "code",
      "source": [
        "C = arr[:,np.newaxis]"
      ],
      "metadata": {
        "id": "FYgr92VdA3Rw"
      },
      "execution_count": null,
      "outputs": []
    },
    {
      "cell_type": "code",
      "source": [
        "C"
      ],
      "metadata": {
        "colab": {
          "base_uri": "https://localhost:8080/"
        },
        "id": "nm69w9AiBD-Q",
        "outputId": "0b54c1a5-7f6b-40ac-c9de-90b9184ac4b0"
      },
      "execution_count": null,
      "outputs": [
        {
          "output_type": "execute_result",
          "data": {
            "text/plain": [
              "array([[[1, 2, 3]],\n",
              "\n",
              "       [[4, 5, 6]]])"
            ]
          },
          "metadata": {},
          "execution_count": 94
        }
      ]
    },
    {
      "cell_type": "code",
      "source": [
        "#10.\tWrite a python program to perform type conversion\n",
        "a.\t6.53 to int\n",
        "b.\t8 to float\n",
        "c.\t9.123 to string\n"
      ],
      "metadata": {
        "id": "prkHRnsFBHeO"
      },
      "execution_count": null,
      "outputs": []
    },
    {
      "cell_type": "code",
      "source": [
        "number_int = int(6.53)\n",
        "print(number_int)"
      ],
      "metadata": {
        "colab": {
          "base_uri": "https://localhost:8080/"
        },
        "id": "SwYQmwJMBO9n",
        "outputId": "7ba2c085-0924-458b-bd1e-8de9bb98c135"
      },
      "execution_count": null,
      "outputs": [
        {
          "output_type": "stream",
          "name": "stdout",
          "text": [
            "6\n"
          ]
        }
      ]
    },
    {
      "cell_type": "code",
      "source": [
        "x = float(8)\n",
        "print(x)"
      ],
      "metadata": {
        "colab": {
          "base_uri": "https://localhost:8080/"
        },
        "id": "omX5ICiaBudB",
        "outputId": "4d34c564-0f1f-4123-fe41-3fd6396e6f8a"
      },
      "execution_count": null,
      "outputs": [
        {
          "output_type": "stream",
          "name": "stdout",
          "text": [
            "8.0\n"
          ]
        }
      ]
    },
    {
      "cell_type": "code",
      "source": [
        "x = str(9.123)\n",
        "print(x)"
      ],
      "metadata": {
        "colab": {
          "base_uri": "https://localhost:8080/"
        },
        "id": "d2ssN5bRBzNs",
        "outputId": "e1e35511-7c94-40b8-9478-8cef4486a6aa"
      },
      "execution_count": null,
      "outputs": [
        {
          "output_type": "stream",
          "name": "stdout",
          "text": [
            "9.123\n"
          ]
        }
      ]
    }
  ]
}